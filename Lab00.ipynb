{
 "cells": [
  {
   "cell_type": "code",
   "execution_count": 4,
   "id": "heavy-trash",
   "metadata": {},
   "outputs": [],
   "source": [
    "a = 123"
   ]
  },
  {
   "cell_type": "code",
   "execution_count": 6,
   "id": "productive-reality",
   "metadata": {},
   "outputs": [
    {
     "data": {
      "text/plain": [
       "123"
      ]
     },
     "execution_count": 6,
     "metadata": {},
     "output_type": "execute_result"
    }
   ],
   "source": [
    "a"
   ]
  },
  {
   "cell_type": "code",
   "execution_count": 11,
   "id": "imposed-yukon",
   "metadata": {},
   "outputs": [],
   "source": [
    "import pandas as pd\n",
    "import numpy as np"
   ]
  },
  {
   "cell_type": "code",
   "execution_count": 68,
   "id": "identical-holmes",
   "metadata": {},
   "outputs": [],
   "source": [
    "df = pd.DataFrame(np.random.rand(30, 4), columns = ['bill','day_of_month','year','client']) "
   ]
  },
  {
   "cell_type": "code",
   "execution_count": 69,
   "id": "italian-sapphire",
   "metadata": {
    "scrolled": true
   },
   "outputs": [
    {
     "data": {
      "text/plain": [
       "0.7557027066324298"
      ]
     },
     "execution_count": 69,
     "metadata": {},
     "output_type": "execute_result"
    }
   ],
   "source": [
    "#df[0] #mial byc zerowy wiersz a nie ma, jest blad, bo odnosi sie do nazwy kolumny! nie ma kolumny 0\n",
    "df['bill'][0] "
   ]
  },
  {
   "cell_type": "code",
   "execution_count": 70,
   "id": "falling-badge",
   "metadata": {
    "scrolled": true
   },
   "outputs": [],
   "source": [
    "df['bill'] = df['bill'].apply(lambda x: int(x*10000 + 10000))\n",
    "df['day_of_month'] = df['day_of_month'].apply(lambda x: int(x*30))\n",
    "df['year'] = df['year'].apply(lambda x: int(x*4) + 2016)\n",
    "clients = ['IBM','Citigroup', 'Microsoft', 'Google']\n",
    "df['client'] = df['client'].apply(lambda x: clients[int(x*4)])"
   ]
  },
  {
   "cell_type": "code",
   "execution_count": 64,
   "id": "golden-tutorial",
   "metadata": {},
   "outputs": [
    {
     "data": {
      "text/html": [
       "<div>\n",
       "<style scoped>\n",
       "    .dataframe tbody tr th:only-of-type {\n",
       "        vertical-align: middle;\n",
       "    }\n",
       "\n",
       "    .dataframe tbody tr th {\n",
       "        vertical-align: top;\n",
       "    }\n",
       "\n",
       "    .dataframe thead th {\n",
       "        text-align: right;\n",
       "    }\n",
       "</style>\n",
       "<table border=\"1\" class=\"dataframe\">\n",
       "  <thead>\n",
       "    <tr style=\"text-align: right;\">\n",
       "      <th></th>\n",
       "      <th>bill</th>\n",
       "      <th>day_of_month</th>\n",
       "      <th>year</th>\n",
       "      <th>client</th>\n",
       "    </tr>\n",
       "  </thead>\n",
       "  <tbody>\n",
       "    <tr>\n",
       "      <th>0</th>\n",
       "      <td>19109</td>\n",
       "      <td>23</td>\n",
       "      <td>2016</td>\n",
       "      <td>IBM</td>\n",
       "    </tr>\n",
       "    <tr>\n",
       "      <th>1</th>\n",
       "      <td>14278</td>\n",
       "      <td>13</td>\n",
       "      <td>2017</td>\n",
       "      <td>Citigroup</td>\n",
       "    </tr>\n",
       "    <tr>\n",
       "      <th>2</th>\n",
       "      <td>17042</td>\n",
       "      <td>16</td>\n",
       "      <td>2018</td>\n",
       "      <td>IBM</td>\n",
       "    </tr>\n",
       "    <tr>\n",
       "      <th>3</th>\n",
       "      <td>15311</td>\n",
       "      <td>27</td>\n",
       "      <td>2017</td>\n",
       "      <td>Microsoft</td>\n",
       "    </tr>\n",
       "    <tr>\n",
       "      <th>4</th>\n",
       "      <td>12922</td>\n",
       "      <td>22</td>\n",
       "      <td>2017</td>\n",
       "      <td>Citigroup</td>\n",
       "    </tr>\n",
       "    <tr>\n",
       "      <th>5</th>\n",
       "      <td>19690</td>\n",
       "      <td>24</td>\n",
       "      <td>2017</td>\n",
       "      <td>Microsoft</td>\n",
       "    </tr>\n",
       "    <tr>\n",
       "      <th>6</th>\n",
       "      <td>10645</td>\n",
       "      <td>16</td>\n",
       "      <td>2016</td>\n",
       "      <td>Microsoft</td>\n",
       "    </tr>\n",
       "    <tr>\n",
       "      <th>7</th>\n",
       "      <td>10857</td>\n",
       "      <td>29</td>\n",
       "      <td>2017</td>\n",
       "      <td>Citigroup</td>\n",
       "    </tr>\n",
       "    <tr>\n",
       "      <th>8</th>\n",
       "      <td>18916</td>\n",
       "      <td>13</td>\n",
       "      <td>2016</td>\n",
       "      <td>IBM</td>\n",
       "    </tr>\n",
       "    <tr>\n",
       "      <th>9</th>\n",
       "      <td>12152</td>\n",
       "      <td>19</td>\n",
       "      <td>2017</td>\n",
       "      <td>Microsoft</td>\n",
       "    </tr>\n",
       "    <tr>\n",
       "      <th>10</th>\n",
       "      <td>13230</td>\n",
       "      <td>21</td>\n",
       "      <td>2017</td>\n",
       "      <td>IBM</td>\n",
       "    </tr>\n",
       "    <tr>\n",
       "      <th>11</th>\n",
       "      <td>11404</td>\n",
       "      <td>11</td>\n",
       "      <td>2017</td>\n",
       "      <td>Google</td>\n",
       "    </tr>\n",
       "    <tr>\n",
       "      <th>12</th>\n",
       "      <td>11175</td>\n",
       "      <td>4</td>\n",
       "      <td>2019</td>\n",
       "      <td>Google</td>\n",
       "    </tr>\n",
       "    <tr>\n",
       "      <th>13</th>\n",
       "      <td>18378</td>\n",
       "      <td>2</td>\n",
       "      <td>2016</td>\n",
       "      <td>IBM</td>\n",
       "    </tr>\n",
       "    <tr>\n",
       "      <th>14</th>\n",
       "      <td>16890</td>\n",
       "      <td>25</td>\n",
       "      <td>2019</td>\n",
       "      <td>Google</td>\n",
       "    </tr>\n",
       "    <tr>\n",
       "      <th>15</th>\n",
       "      <td>18418</td>\n",
       "      <td>24</td>\n",
       "      <td>2016</td>\n",
       "      <td>Citigroup</td>\n",
       "    </tr>\n",
       "    <tr>\n",
       "      <th>16</th>\n",
       "      <td>10269</td>\n",
       "      <td>5</td>\n",
       "      <td>2019</td>\n",
       "      <td>Google</td>\n",
       "    </tr>\n",
       "    <tr>\n",
       "      <th>17</th>\n",
       "      <td>12586</td>\n",
       "      <td>27</td>\n",
       "      <td>2017</td>\n",
       "      <td>Microsoft</td>\n",
       "    </tr>\n",
       "    <tr>\n",
       "      <th>18</th>\n",
       "      <td>14185</td>\n",
       "      <td>4</td>\n",
       "      <td>2019</td>\n",
       "      <td>IBM</td>\n",
       "    </tr>\n",
       "    <tr>\n",
       "      <th>19</th>\n",
       "      <td>15138</td>\n",
       "      <td>13</td>\n",
       "      <td>2018</td>\n",
       "      <td>IBM</td>\n",
       "    </tr>\n",
       "    <tr>\n",
       "      <th>20</th>\n",
       "      <td>17017</td>\n",
       "      <td>9</td>\n",
       "      <td>2017</td>\n",
       "      <td>Citigroup</td>\n",
       "    </tr>\n",
       "    <tr>\n",
       "      <th>21</th>\n",
       "      <td>17930</td>\n",
       "      <td>10</td>\n",
       "      <td>2019</td>\n",
       "      <td>Citigroup</td>\n",
       "    </tr>\n",
       "    <tr>\n",
       "      <th>22</th>\n",
       "      <td>11191</td>\n",
       "      <td>18</td>\n",
       "      <td>2016</td>\n",
       "      <td>IBM</td>\n",
       "    </tr>\n",
       "    <tr>\n",
       "      <th>23</th>\n",
       "      <td>15077</td>\n",
       "      <td>14</td>\n",
       "      <td>2016</td>\n",
       "      <td>Google</td>\n",
       "    </tr>\n",
       "    <tr>\n",
       "      <th>24</th>\n",
       "      <td>16732</td>\n",
       "      <td>24</td>\n",
       "      <td>2016</td>\n",
       "      <td>Google</td>\n",
       "    </tr>\n",
       "    <tr>\n",
       "      <th>25</th>\n",
       "      <td>10536</td>\n",
       "      <td>9</td>\n",
       "      <td>2019</td>\n",
       "      <td>Microsoft</td>\n",
       "    </tr>\n",
       "    <tr>\n",
       "      <th>26</th>\n",
       "      <td>11521</td>\n",
       "      <td>11</td>\n",
       "      <td>2018</td>\n",
       "      <td>IBM</td>\n",
       "    </tr>\n",
       "    <tr>\n",
       "      <th>27</th>\n",
       "      <td>19286</td>\n",
       "      <td>18</td>\n",
       "      <td>2017</td>\n",
       "      <td>IBM</td>\n",
       "    </tr>\n",
       "    <tr>\n",
       "      <th>28</th>\n",
       "      <td>13413</td>\n",
       "      <td>16</td>\n",
       "      <td>2019</td>\n",
       "      <td>IBM</td>\n",
       "    </tr>\n",
       "    <tr>\n",
       "      <th>29</th>\n",
       "      <td>14069</td>\n",
       "      <td>9</td>\n",
       "      <td>2017</td>\n",
       "      <td>Citigroup</td>\n",
       "    </tr>\n",
       "  </tbody>\n",
       "</table>\n",
       "</div>"
      ],
      "text/plain": [
       "     bill  day_of_month  year     client\n",
       "0   19109            23  2016        IBM\n",
       "1   14278            13  2017  Citigroup\n",
       "2   17042            16  2018        IBM\n",
       "3   15311            27  2017  Microsoft\n",
       "4   12922            22  2017  Citigroup\n",
       "5   19690            24  2017  Microsoft\n",
       "6   10645            16  2016  Microsoft\n",
       "7   10857            29  2017  Citigroup\n",
       "8   18916            13  2016        IBM\n",
       "9   12152            19  2017  Microsoft\n",
       "10  13230            21  2017        IBM\n",
       "11  11404            11  2017     Google\n",
       "12  11175             4  2019     Google\n",
       "13  18378             2  2016        IBM\n",
       "14  16890            25  2019     Google\n",
       "15  18418            24  2016  Citigroup\n",
       "16  10269             5  2019     Google\n",
       "17  12586            27  2017  Microsoft\n",
       "18  14185             4  2019        IBM\n",
       "19  15138            13  2018        IBM\n",
       "20  17017             9  2017  Citigroup\n",
       "21  17930            10  2019  Citigroup\n",
       "22  11191            18  2016        IBM\n",
       "23  15077            14  2016     Google\n",
       "24  16732            24  2016     Google\n",
       "25  10536             9  2019  Microsoft\n",
       "26  11521            11  2018        IBM\n",
       "27  19286            18  2017        IBM\n",
       "28  13413            16  2019        IBM\n",
       "29  14069             9  2017  Citigroup"
      ]
     },
     "execution_count": 64,
     "metadata": {},
     "output_type": "execute_result"
    }
   ],
   "source": [
    "df"
   ]
  },
  {
   "cell_type": "code",
   "execution_count": 71,
   "id": "improved-destination",
   "metadata": {},
   "outputs": [
    {
     "data": {
      "text/plain": [
       "<AxesSubplot:xlabel='client'>"
      ]
     },
     "execution_count": 71,
     "metadata": {},
     "output_type": "execute_result"
    },
    {
     "data": {
      "image/png": "[encoded data removed]",
      "text/plain": [
       "<Figure size 432x288 with 1 Axes>"
      ]
     },
     "metadata": {
      "needs_background": "light"
     },
     "output_type": "display_data"
    }
   ],
   "source": [
    "#df.describe()\n",
    "#list(df.groupby('client'))\n",
    "#df.groupby('client')['bill'].mean()\n",
    "df.groupby('client')['bill'].sum().plot.bar()"
   ]
  },
  {
   "cell_type": "code",
   "execution_count": 72,
   "id": "similar-values",
   "metadata": {},
   "outputs": [
    {
     "data": {
      "text/plain": [
       "<AxesSubplot:ylabel='bill'>"
      ]
     },
     "execution_count": 72,
     "metadata": {},
     "output_type": "execute_result"
    },
    {
     "data": {
      "image/png": "[encoded data removed]",
      "text/plain": [
       "<Figure size 432x288 with 1 Axes>"
      ]
     },
     "metadata": {},
     "output_type": "display_data"
    }
   ],
   "source": [
    "df.groupby('client')['bill'].sum().plot.pie()"
   ]
  },
  {
   "cell_type": "code",
   "execution_count": 74,
   "id": "advanced-dylan",
   "metadata": {},
   "outputs": [
    {
     "data": {
      "text/plain": [
       "<AxesSubplot:title={'center':'bill'}, xlabel='client'>"
      ]
     },
     "execution_count": 74,
     "metadata": {},
     "output_type": "execute_result"
    },
    {
     "data": {
      "image/png": "[encoded data removed]",
      "text/plain": [
       "<Figure size 432x288 with 1 Axes>"
      ]
     },
     "metadata": {
      "needs_background": "light"
     },
     "output_type": "display_data"
    }
   ],
   "source": [
    "df.boxplot(column='bill', by='client')"
   ]
  },
  {
   "cell_type": "code",
   "execution_count": 76,
   "id": "nonprofit-insulation",
   "metadata": {},
   "outputs": [],
   "source": [
    "import matplotlib.pyplot as plt"
   ]
  },
  {
   "cell_type": "code",
   "execution_count": 91,
   "id": "scheduled-italian",
   "metadata": {},
   "outputs": [],
   "source": [
    "x = np.arange(4)\n",
    "y = [4, 2, 5, 4]\n",
    "y2 = [6, 1, 3, 5]"
   ]
  },
  {
   "cell_type": "code",
   "execution_count": 94,
   "id": "liked-niagara",
   "metadata": {},
   "outputs": [
    {
     "data": {
      "text/plain": [
       "<matplotlib.legend.Legend at 0x1de3c450f10>"
      ]
     },
     "execution_count": 94,
     "metadata": {},
     "output_type": "execute_result"
    },
    {
     "data": {
      "image/png": "[encoded data removed]",
      "text/plain": [
       "<Figure size 432x288 with 1 Axes>"
      ]
     },
     "metadata": {
      "needs_background": "light"
     },
     "output_type": "display_data"
    }
   ],
   "source": [
    "#%matplotlib inline\n",
    "plt.plot(x,y,label='linia 1')\n",
    "plt.plot(x,y2,label='linia 2')\n",
    "plt.title('Wykres')\n",
    "plt.xlabel('X')\n",
    "plt.ylabel('Y')\n",
    "plt.legend()"
   ]
  },
  {
   "cell_type": "code",
   "execution_count": null,
   "id": "conditional-tyler",
   "metadata": {},
   "outputs": [],
   "source": []
  }
 ],
 "metadata": {
  "kernelspec": {
   "display_name": "Python 3",
   "language": "python",
   "name": "python3"
  },
  "language_info": {
   "codemirror_mode": {
    "name": "ipython",
    "version": 3
   },
   "file_extension": ".py",
   "mimetype": "text/x-python",
   "name": "python",
   "nbconvert_exporter": "python",
   "pygments_lexer": "ipython3",
   "version": "3.9.2"
  }
 },
 "nbformat": 4,
 "nbformat_minor": 5
}
