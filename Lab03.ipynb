{
 "cells": [
  {
   "cell_type": "markdown",
   "metadata": {},
   "source": [
    "# Statystyczne metody przetwarzania danych \n",
    "\n",
    "## Laboratorium 3 - algorytm Najbliższej Średniej (NM)\n",
    "\n",
    "\n",
    "### Opis\n",
    "Celem laboratorium jest implementacja klasyfikatora najbliższej średniej NM (*Nearest Mean*).\n",
    "\n",
    "### Zbiór danych\n",
    "\n",
    "Zbiór danych znajduje się w `dataset/leaf.csv`. Jest to zbiór danych pobrany z adresu: <https://archive.ics.uci.edu/ml/datasets/leaf>.\n",
    "\n",
    "### Przesyłanie zadań\n",
    "\n",
    "Wszystkie pliki należy spakować archiwizatorem **zip** i przesłać za pośrednictwem platformy WIKAMP. Poniżej oczekiwana zawartość archiwum:\n",
    "\n",
    "```\n",
    "+-- 📂 [IMIE I NAZWISKO].zip\n",
    "    +-- 📜 Lab03.ipynb\n",
    "    +-- 📂 dataset\n",
    "        +-- 📜 leaf.csv\n",
    "        +-- 📜 ReadMe.pdf\n",
    "```\n",
    "**Edit: Skorzystać z tego samego zbioru danych, co w kNN.**\n",
    "\n",
    "*UWAGA: Wysyłając zadanie potwierdasz, że wykonałeś je samodzielnie i jest to Twoja indywidualna praca i materiał przedstawiony w tej pracy jest dla Ciebie zrozumiały.*\n",
    "\n",
    "### Zadanie\n",
    "\n",
    "Należy wykonać następujące czynności w celu realizacji niniejszego zadania:\n",
    "* Wczytaj dane.\n",
    "* Zaimplementuj funkcję, która zwraca macierz kowariancji (*uwaga: biblioteka `numpy` posiada gotową implementację `cov` z którą możesz porównać wynik*).\n",
    "\n",
    "\\begin{equation*}\n",
    "C = \\frac{1}{n - 1} \\sum_{i=1}^n (X_i - \\bar X)(X_i - \\bar X)^T\n",
    "\\end{equation*}\n",
    "\n",
    "* **Zaimplementuj klasyfikator najbliższej średniej (NM) z zastosowaniem odległości Euklidesa**. - **Edit: moze byc gotowa**\n",
    "* **Zaimplementuj klasyfikator najbliższej średniej (NM) z zastosowaniem odległości Machalanobisa**. - **Edit: napisac samemu**\n",
    "* **Edit: liczba cech jak wpływa**\n",
    "\n",
    "    \\begin{equation*}\n",
    "    D_j = \\sqrt{ (x - \\mu_j)^T S_j^{-1}(x - \\mu_j) },\n",
    "    \\end{equation*}\n",
    "\n",
    "    gdzie:\n",
    "    * $D_j$ to odległość klasyfikowanej próbki do $j$-tej klasy (grupy, klastra), \n",
    "    * $\\mu_j$ to wektor ze średnimi wartościami cech w obrębie $j$-tej klasy, \n",
    "    * $S_j^{-1}$ to odwrócona macierz kowariancji $j$-tej klasy, \n",
    "    * a $x$ to klasyfikowana próbka.\n",
    "\n",
    "* Opisz wyniki klasyfikatorów i porównaj je z klasyfikatorem *k*NN (porównaj w kontekście różnych metryk - obowiązkowo tablica pomyłek).\n",
    "\n",
    "> Podpowiedź 1: Do obliczenia macierzy odwrotnej możesz użyć gotową implementację, np. funkcję `linalg.inv` z biblioteki `numpy`.\n",
    "\n",
    "> Podpowiedź 2: Do wszelkich podstawowych operacji na macierzach (mnożenie, transpozycja, dodawanie, odejmowanie, itp.) możesz zastosować gotową implementację, np. bibliotekę `numpy`.\n",
    "\n",
    "> UWAGA 1: W niniejszym zadaniu jest dowolność implementacji (nie trzeba trzymać się struktury z poprzedniego zadania), jednak algorytm NM należy zaimplementować samodzielnie bez korzystania z istniających rozwiązań (jak np. z biblioteki `scikit-learn`).\n",
    "\n",
    "> UWAGA 2: Wszystkie wykonane elementy zadania powinny posiadać stosowne komentarze i opisy.\n",
    "\n",
    "\n",
    "**Pamiętaj, wyniki powinny być czytelnie opisane oraz zaprezentowane graficznie (jeżeli jest taka możliwość). Warstwa prezentacji danych to jeden z głównych elementów wpływających na ocenę.**\n",
    "\n",
    "Przykład (na podstawie tablicy pomyłek):\n",
    "\n",
    "Źle (nie wiadomo co jest poniżej zaprezentowane, kolumny ani wiersze nie są podpisane, nie wiadomo które z nich prezentują predykcje, a które właściwe etykiety):\n",
    "```\n",
    "array([[2, 0, 0],\n",
    "       [0, 0, 1],\n",
    "       [1, 0, 2]])\n",
    "```\n",
    "\n",
    "\n",
    "<span style=\"text-decoration:underline\">Referencje</span>\n",
    "\n",
    "1. Mahalanobis, P C, _On test and measures of group divergence : theoretical formulae_, Journal and Proceedings of Asiatic Society of Bengal (New Series) Vol. 26, pp. 541-588. 1930. (URL: http://library.isical.ac.in:8080/xmlui/bitstream/handle/10263/1639/029.pdf)\n",
    "2. McLachlan, Goeffrey J. _Mahalanobis distance_, Resonance, pp. 20-26. 1999. (URL: https://www.ias.ac.in/article/fulltext/reso/004/06/0020-0026)"
   ]
  },
  {
   "cell_type": "markdown",
   "metadata": {},
   "source": [
    "### Wczytywanie danych"
   ]
  },
  {
   "cell_type": "code",
   "execution_count": 1,
   "metadata": {},
   "outputs": [],
   "source": [
    "# Piotr Klimczak, 1SIiUM2, 239533 / 215275\n",
    "\n",
    "import numpy as np\n",
    "import pandas as pd\n",
    "import matplotlib.pyplot as plt\n",
    "from sklearn.metrics import confusion_matrix\n",
    "\n",
    "with open('./dataset/dataset.npz', 'rb') as f:\n",
    "    data = np.load(f)\n",
    "    train, test = data['train'], data['test']"
   ]
  },
  {
   "cell_type": "markdown",
   "metadata": {},
   "source": [
    "### Przygotowanie danych"
   ]
  },
  {
   "cell_type": "code",
   "execution_count": 2,
   "metadata": {},
   "outputs": [],
   "source": [
    "columns_name = ['Class (Species)','Specimen Number','Eccentricity','Aspect Ratio','Elongation','Solidity',\n",
    "                'Stochastic Convexity','Isoperimetric Factor','Maximal Indentation Depth','Lobedness',\n",
    "                'Average Intensity','Average Contrast','Smoothness','Third moment','Uniformity','Entropy']\n",
    "\n",
    "df_train = pd.DataFrame(train, columns = columns_name)\n",
    "df_test = pd.DataFrame(test, columns = columns_name)"
   ]
  },
  {
   "cell_type": "markdown",
   "metadata": {},
   "source": [
    "### Obróbka danych do macierzy kowariancji"
   ]
  },
  {
   "cell_type": "code",
   "execution_count": 3,
   "metadata": {},
   "outputs": [],
   "source": [
    "def Macierz_x(klasy,cechy,czy_normalizowac,dane):\n",
    "    # tworzenie macierzy x, gdzie:\n",
    "    # - kolumny to x1, x2, ... - punkty klasy, stworzone z:\n",
    "    # - wiersz 1 to oś 'x', wiersz 2 to 'y' ('x', 'y' - cechy)\n",
    "    \n",
    "    # len(klasy), np. array o 2 miejscach bo są 2 klasy\n",
    "    # dtype=object, by moc przechowywac array w arrayu\n",
    "    cechy_danej_klasy = np.empty([len(klasy)], dtype=object)\n",
    "    \n",
    "    #tyle, ile jest klas\n",
    "    for y in range(len(klasy)):\n",
    "        # pobierz wszystkie cechy z danej klasy\n",
    "        # .T - transpozycja (tutaj z kolumn na wiersze)\n",
    "        cechy_danej_klasy[y] = dane[cechy].loc[dane['Class (Species)'] == klasy[y]].T.to_numpy()\n",
    "        \n",
    "    if czy_normalizowac == 'tak':\n",
    "        cechy_danej_klasy = Normalizuj(cechy_danej_klasy)\n",
    "                                                               \n",
    "    return (cechy_danej_klasy, czy_normalizowac)\n",
    "\n",
    "def Normalizuj(dane): #mozliwa kombinacja: 2klasy2cechy, 5klas2cechy, 2klasy5cech,  5klas5cech\n",
    "    #Jezeli znajdzie sie chwila to wymyslic lepsza optymalizacje tej funkcji, bo jest tragiczna\n",
    "\n",
    "    polaczone = Polacz(dane)\n",
    "\n",
    "    for v in range(len(cechy)): #w zakresie wszystkich cech\n",
    "        \n",
    "        for p in range(len(polaczone[v])): #w zakresie wszystkich probek\n",
    "            polaczone[v][p] = ((polaczone[v][p] - np.min(polaczone[v][:])) / (np.max(polaczone[v][:]) - np.min(polaczone[v][:])))\n",
    "        \n",
    "        #Rozdzielanie z wszystkich polaczonych, na odpowiednie cechy (da sie to zrobic, bo znamy dlugosci wsadzanych danych)\n",
    "        if len(klasy) == 2:\n",
    "            a = len(dane[0][v]) \n",
    "            dane[0][v] = polaczone[v][0:len(dane[0][v])] #1 cecha\n",
    "            dane[1][v] = polaczone[v][len(dane[0][v]):] #2 cecha\n",
    "            #print(a)\n",
    "            #print(len(dane[0][v]))\n",
    "            #print(len(dane[1][v]))\n",
    "        if len(klasy) == 5:\n",
    "            a = len(dane[0][v]) \n",
    "            b = len(dane[1][v])  \n",
    "            c = len(dane[2][v]) \n",
    "            d = len(dane[3][v])\n",
    "            #print(a)\n",
    "            #print(b)\n",
    "            #print(c)\n",
    "            #print(d)\n",
    "            dane[0][v] = polaczone[v][0:a] #1 klasa \n",
    "            dane[1][v] = polaczone[v][a:(a+b)] #2 klasa 77 \n",
    "            dane[2][v] = polaczone[v][(a+b):(a+b+c)] #3 klasa \n",
    "            dane[3][v] = polaczone[v][(a+b+c):(a+b+c+d)] #4 klasa \n",
    "            dane[4][v] = polaczone[v][(a+b+c+d):] #5 klasa\n",
    "\n",
    "    return(dane)\n",
    "\n",
    "def Polacz(dane):\n",
    "    #Jak zrobic, by do concatenate 'mądrze' wchodziły dane? Jakas pętla w srodku / lambda?\n",
    "    polaczone = np.empty([len(cechy)], dtype=object) #polaczone cechy wszystkich klas\n",
    "   \n",
    "    if (len(cechy) == 2 and len(klasy) == 2):\n",
    "        polaczone[0] = np.concatenate((dane[0][0],dane[1][0])) #kl35c1\n",
    "        polaczone[1] = np.concatenate((dane[0][1],dane[1][1])) #kl35c2\n",
    "    if (len(cechy) == 2 and len(klasy) == 5):\n",
    "        polaczone[0] = np.concatenate((dane[0][0],dane[1][0],dane[2][0],dane[3][0],dane[4][0])) #kl[29,5,8,4,31,3]c1\n",
    "        polaczone[1] = np.concatenate((dane[0][1],dane[1][1],dane[2][1],dane[3][1],dane[4][1])) #kl[29,5,8,4,31,3]c2      \n",
    "    if (len(cechy) == 5 and len(klasy) == 2):\n",
    "        polaczone[0] = np.concatenate((dane[0][0],dane[1][0])) #kl35c1\n",
    "        polaczone[1] = np.concatenate((dane[0][1],dane[1][1])) #kl35c2\n",
    "        polaczone[2] = np.concatenate((dane[0][2],dane[1][2])) #kl35c3\n",
    "        polaczone[3] = np.concatenate((dane[0][3],dane[1][3])) #kl35c4\n",
    "        polaczone[4] = np.concatenate((dane[0][4],dane[1][4])) #kl35c5\n",
    "    if (len(cechy) == 5 and len(klasy) == 5):\n",
    "        polaczone[0] = np.concatenate((dane[0][0],dane[1][0],dane[2][0],dane[3][0],dane[4][0])) #kl[29,5,8,4,31,3]c1\n",
    "        polaczone[1] = np.concatenate((dane[0][1],dane[1][1],dane[2][1],dane[3][1],dane[4][1])) #kl[29,5,8,4,31,3]c2\n",
    "        polaczone[2] = np.concatenate((dane[0][2],dane[1][2],dane[2][2],dane[3][2],dane[4][2])) #kl[29,5,8,4,31,3]c3\n",
    "        polaczone[3] = np.concatenate((dane[0][3],dane[1][3],dane[2][3],dane[3][3],dane[4][3])) #kl[29,5,8,4,31,3]c4\n",
    "        polaczone[4] = np.concatenate((dane[0][4],dane[1][4],dane[2][4],dane[3][4],dane[4][4])) #kl[29,5,8,4,31,3]c5\n",
    "\n",
    "    return(polaczone)\n",
    "\n",
    "def Macierz_mi(dane):\n",
    "    # uśrednianie\n",
    "    mi = np.empty(len(dane), dtype=object)\n",
    "    \n",
    "    # tyle, ile bylo cech\n",
    "    for y in range((len(dane))):\n",
    "        # policz średnią po axis=1 czyli poziomo\n",
    "        mi[y] = np.sum(dane[y],axis=1) / dane[y].shape[1]\n",
    "        \n",
    "    return(mi)\n",
    "\n",
    "def Macierz_M(dane_mi,dane_x):\n",
    "    #stworz array o dlugosci ilosci klas (len(mi) moze byc, bo mi powstalo z len(x), x powstalo z len(klasy))\n",
    "    M = np.empty(len(dane_mi), dtype=object)\n",
    "    \n",
    "    for y in range(len(klasy)): #powtorz tyle, ile jest klas\n",
    "        for z in range(dane_x[y].shape[1]): #powtorz tyle, ile jest kolumn/punktów w danej klasie\n",
    "            M[y] = np.vstack( [dane_mi[y]] * dane_x[y].shape[1] ).T #skopiuj mi do M tyle razy, ile jest kolumn/punktów w klasie\n",
    "            \n",
    "    return(M)\n",
    "\n",
    "def PolaczWKolumny(dane):\n",
    "    return_dane = np.empty(len(klasy), dtype=object)\n",
    "    \n",
    "    if len(cechy) == 2:\n",
    "        for t in range(len(klasy)):\n",
    "            return_dane[t] = np.stack((dane[t][0],dane[t][1]),axis=1) \n",
    "        \n",
    "    if len(cechy) == 5:\n",
    "        for t in range(len(klasy)):\n",
    "            return_dane[t] = np.stack((dane[t][0],dane[t][1],dane[t][2],dane[t][3],dane[t][4]),axis=1)\n",
    " \n",
    "    return(return_dane)\n",
    "\n",
    "def OdlegloscEuklidesa():\n",
    "    return_odleglosc = np.empty(len(klasy)*len(mi), dtype=object)\n",
    "    #klasa * ileś M liczyć, wiec dlatego\n",
    "    #np. dla klasy 3, trzeba policzyc euklidesa do mi3 oraz mi5\n",
    "    \n",
    "    zrobiona_klasa=0 #zmienna pomocnicza, by zgadzały się indeksy\n",
    "    #przykład dla 5 klas: każda klasa musi zostać policzona 5 razy (do każdego mi zmierzyć odległość)\n",
    "        #[k+g+zrobiona_klasa]: 000, 010, 020, 030, 040 | 104, 114, 124, 134, 144 | 208, 219, ... za kazdym razem wyjdzie indeks odpowiedni (jako suma!)\n",
    "\n",
    "    for k in range(len(klasy)): #tyle, ile jest klas\n",
    "        for g in range(len(mi)): #np. dla klasy 3, trzeba policzyc euklidesa do mi3 oraz mi5\n",
    "            return_odleglosc[k+g+zrobiona_klasa] = x_testowe[k] - mi[g]\n",
    "            for j in range(len(return_odleglosc[k+g+zrobiona_klasa])): #dla wszystkich próbek\n",
    "                return_odleglosc[k+g+zrobiona_klasa][j] = np.sqrt(return_odleglosc[k+g+zrobiona_klasa][j] **2)\n",
    "                return_odleglosc[k+g+zrobiona_klasa][j] = np.sum(return_odleglosc[k+g+zrobiona_klasa][j])\n",
    "                return_odleglosc[k+g+zrobiona_klasa][j] = np.sqrt(return_odleglosc[k+g+zrobiona_klasa][j])\n",
    "        zrobiona_klasa += len(klasy) - 1  \n",
    "    return(return_odleglosc)\n",
    "\n",
    "def OdlegloscMachalanobisa():\n",
    "    return_odleglosc = np.empty(len(klasy)*len(mi), dtype=object) #25\n",
    "    mi_rozmiar = mi.reshape(mi.shape+(1,))\n",
    "    \n",
    "    zrobiona_klasa=0 \n",
    "\n",
    "    for k in range(len(klasy)): #tyle, ile jest klas\n",
    "        for g in range(len(mi)): #np. dla klasy 3, trzeba policzyc do mi3 oraz mi5\n",
    "            return_odleglosc[k+g+zrobiona_klasa] = np.empty(x_testowe[k].shape[0], dtype=object) #stworz podtablice\n",
    "            for j in range(len(return_odleglosc[k+g+zrobiona_klasa])): #dla wszystkich próbek\n",
    "                return_odleglosc[k+g+zrobiona_klasa][j] = (x_testowe[k] - mi[g])[j] @ C_odwrocone[k] @ (x_testowe[k] - mi[g])[j].reshape((x_testowe[k] - mi[g])[j].shape+(1,))\n",
    "        zrobiona_klasa += len(klasy) - 1  \n",
    "    return(return_odleglosc)  \n",
    "\n",
    "def StworzMin(dane):\n",
    "    return_min_euk = np.empty(len(klasy), dtype=object)\n",
    "    przypisanie = np.empty(len(klasy), dtype=object)\n",
    "\n",
    "    okres = 0\n",
    "    for k in range(len(klasy)):\n",
    "        return_min_euk[k] = np.empty(dane[k+okres].shape[0], dtype=object) #stworz podtablice\n",
    "        przypisanie[k] = np.empty(dane[k+okres].shape[0], dtype=object) #stworz podtablice\n",
    "        for i in range(dane[k+okres].shape[0]):\n",
    "            if len(klasy) == 5:\n",
    "                return_min_euk[k][i] = np.stack([dane[0+okres][i][0],dane[1+okres][i][0],dane[2+okres][i][0],dane[3+okres][i][0],dane[4+okres][i][0]])\n",
    "            if len(klasy) == 2:\n",
    "                return_min_euk[k][i] = np.stack([dane[0+okres][i][0],dane[1+okres][i][0]])\n",
    "                \n",
    "            przypisanie[k][i] = np.argmin(return_min_euk[k][i],axis=0)\n",
    "\n",
    "        okres += len(klasy)\n",
    "        \n",
    "    return(przypisanie)\n",
    "\n",
    "def Matrix(test,result):\n",
    "    unique = np.unique([test, result])\n",
    "    \n",
    "    conmat = pd.DataFrame(\n",
    "        confusion_matrix(test, result),\n",
    "        index = ['TRUE:{:}'.format(x) for x in unique],\n",
    "        columns = ['PRED:{:}'.format(x) for x in unique]\n",
    "    )\n",
    "    \n",
    "    print(conmat)\n",
    "\n",
    "def PokazMatrix_i_Dokladnosc():\n",
    "    kl0 = np.full(len(ans[0]),0)\n",
    "    kl1 = np.full(len(ans[1]),1)\n",
    "    kltotal = list(kl0) + list(kl1) \n",
    "    anstotal = list(ans[0]) + list(ans[1])\n",
    "    if len(klasy) == 5:\n",
    "        kl2 = np.full(len(ans[2]),2)\n",
    "        kl3 = np.full(len(ans[3]),3)\n",
    "        kl4 = np.full(len(ans[4]),4)\n",
    "        kltotal = list(kl0) + list(kl1) + list(kl2) + list(kl3) + list(kl4)\n",
    "        anstotal = list(ans[0]) + list(ans[1]) + list(ans[2]) + list(ans[3]) + list(ans[4])\n",
    "\n",
    "    matrixx = Matrix(kltotal,anstotal)\n",
    "    \n",
    "    zgodne = 0 #init & czysc zmienna\n",
    "\n",
    "    for i in range(len(kltotal)):\n",
    "        if ((kltotal)[i]  == (anstotal)[i]): #czy pokrywa się klasyfikacja\n",
    "            zgodne += 1 #jeżeli tak, +1\n",
    "        \n",
    "    acc = zgodne / len(kltotal)\n",
    "    print(\"\\n\")\n",
    "    print(\"Dokładność: \",acc*100,'%')"
   ]
  },
  {
   "cell_type": "markdown",
   "metadata": {},
   "source": [
    "### 2cechy2klasy"
   ]
  },
  {
   "cell_type": "code",
   "execution_count": 4,
   "metadata": {},
   "outputs": [],
   "source": [
    "wszystkie_treningowe = df_train.loc[(df_train['Class (Species)'].isin([29,5,8,4,31,3]))]\n",
    "wszystkie_testowe = df_test.loc[(df_test['Class (Species)'].isin([29,5,8,4,31,3]))]\n",
    "\n",
    "# wybrane klasy z wszystkich:\n",
    "#klasy = [29,5,8,4,31]\n",
    "klasy = [3,5]\n",
    "\n",
    "# wybieranie cech (narazie dwóch), z których zrobimy problem 2D, Entropy - 'x', Elongation - 'y'\n",
    "cechy = [\"Eccentricity\",\"Elongation\"]\n",
    "#cechy = ['Elongation','Entropy','Aspect Ratio','Lobedness','Solidity']\n",
    "\n",
    "x, czy_normalizowane = Macierz_x(klasy,cechy,'tak',wszystkie_treningowe)\n",
    "#To, czy są znormalizowane dane, zależy od 3 parametru - 'tak' lub 'nie' (tak naprawde dowolny ciag, inny od 'tak');\n",
    "#x[0] <- wszystkie cechy pierwszej podanej klasy; [1] - drugiej podanej klasy\n",
    "#x[0][0] <- 'x' podanej pierwszej klasy; [0][1] - 'y'\n",
    "\n",
    "#dostęp do mi analogiczny jak w przypadku x\n",
    "mi = Macierz_mi(x)\n",
    "\n",
    "#dostęp do M analogiczny jak w przypadku x\n",
    "M = Macierz_M(mi,x)"
   ]
  },
  {
   "cell_type": "markdown",
   "metadata": {},
   "source": [
    "### 2cechy2klasy Euklides\n",
    "\n"
   ]
  },
  {
   "cell_type": "code",
   "execution_count": 5,
   "metadata": {},
   "outputs": [
    {
     "name": "stdout",
     "output_type": "stream",
     "text": [
      "        PRED:0  PRED:1\n",
      "TRUE:0      55       0\n",
      "TRUE:1       0      55\n",
      "\n",
      "\n",
      "Dokładność:  100.0 %\n"
     ]
    }
   ],
   "source": [
    "x_testowe, czy_normalizowane_testowe = Macierz_x(klasy,cechy,'tak',wszystkie_testowe)\n",
    "\n",
    "mi_testowe = Macierz_mi(x_testowe)\n",
    "\n",
    "M_testowe = Macierz_M(mi_testowe,x_testowe)\n",
    "\n",
    "x_testowe = PolaczWKolumny(x_testowe)\n",
    "\n",
    "euklides = OdlegloscEuklidesa()\n",
    "\n",
    "ans = StworzMin(euklides)\n",
    "\n",
    "PokazMatrix_i_Dokladnosc()\n",
    "\n"
   ]
  },
  {
   "cell_type": "markdown",
   "metadata": {},
   "source": [
    "### Macierz kowariancji"
   ]
  },
  {
   "cell_type": "code",
   "execution_count": 6,
   "metadata": {
    "scrolled": true
   },
   "outputs": [
    {
     "name": "stdout",
     "output_type": "stream",
     "text": [
      "[array([[0.25464672, 0.32459958, 0.58946953, 0.4648883 , 0.5449518 ,\n",
      "        0.28372736, 0.43209376, 0.70426807, 0.51157321, 0.53995088,\n",
      "        0.53438447, 0.20786983, 0.58854962, 0.5755769 , 0.57245225,\n",
      "        0.53796718, 0.3223797 , 0.71876085, 0.60306224, 0.50866223,\n",
      "        0.31509851, 0.3494421 , 0.53958974, 0.40055308, 0.6906516 ,\n",
      "        0.39685486, 0.35090708, 0.53745716, 0.42444647, 0.52951428,\n",
      "        0.39771826, 0.3569936 , 0.60148079, 0.44452505, 0.59422293,\n",
      "        0.50419253, 0.49171842, 0.65946511, 0.53765185, 0.66800892,\n",
      "        0.50188107, 0.25843742, 0.6969938 , 0.46084242, 0.52573533,\n",
      "        0.42660588, 0.29005077, 0.59932411, 0.5181009 , 0.4532689 ,\n",
      "        0.35786681, 0.30142002, 0.73869906, 0.61872112, 0.57274104],\n",
      "       [0.21617624, 0.13553726, 0.34022473, 0.31246962, 0.37225447,\n",
      "        0.25152436, 0.17451312, 0.38499359, 0.23408031, 0.41048829,\n",
      "        0.24490197, 0.18997288, 0.45338845, 0.36854845, 0.26687052,\n",
      "        0.23087924, 0.1403431 , 0.31950001, 0.38040187, 0.31315319,\n",
      "        0.21360833, 0.21069258, 0.43713343, 0.32565694, 0.39359127,\n",
      "        0.3386059 , 0.32671096, 0.31834166, 0.41290542, 0.2733774 ,\n",
      "        0.42591964, 0.145594  , 0.40168386, 0.33618707, 0.46772445,\n",
      "        0.37126505, 0.27601407, 0.28786605, 0.24127966, 0.44576654,\n",
      "        0.30394113, 0.31624473, 0.2648503 , 0.23129501, 0.46093837,\n",
      "        0.25921713, 0.33689197, 0.37683756, 0.29682135, 0.35765395,\n",
      "        0.22655319, 0.13921144, 0.29360297, 0.36076234, 0.28756405]])\n",
      " array([[0.90323326, 0.86943823, 0.83388344, 0.76027052, 0.89090247,\n",
      "        0.83508554, 0.81094446, 0.77793302, 0.85183595, 0.90373129,\n",
      "        0.71139069, 0.9636681 , 0.79055883, 0.91260855, 0.99624459,\n",
      "        0.77393931, 0.9584756 , 0.71802908, 0.91574886, 0.72476463,\n",
      "        0.79231271, 0.77144471, 0.97488353, 0.71887547, 0.77048412,\n",
      "        0.89607254, 0.70151348, 0.88846024, 0.82686483, 0.91468418,\n",
      "        0.81111649, 0.64053936, 0.86622287, 0.87531708, 0.77861223,\n",
      "        0.79952913, 0.76612456, 0.9676754 , 0.82636919, 0.97258898,\n",
      "        0.78930334, 0.77234771, 0.96086389, 0.89211248, 0.71633171,\n",
      "        0.7638212 , 0.88556601, 0.89377424, 0.73742807, 0.988855  ,\n",
      "        0.85446746, 0.91572809, 0.68631561, 0.8343922 , 0.73053888,\n",
      "        0.6825586 , 0.81667273, 0.7531424 , 0.91049915, 0.6591041 ,\n",
      "        0.81982221, 0.86287967, 0.69984989, 0.85489324, 1.        ,\n",
      "        0.83951957, 0.84921836, 0.95646041, 0.87154317, 0.93413824,\n",
      "        0.82225003, 0.99737821, 0.97758587, 0.85545756, 0.82034514,\n",
      "        0.96355522, 0.7162829 ],\n",
      "       [0.88819774, 0.7440443 , 0.59510596, 0.62041618, 0.69123164,\n",
      "        0.669894  , 0.64983183, 0.85490311, 0.6456655 , 0.66861461,\n",
      "        0.68072732, 0.76003149, 0.70254675, 0.54986691, 0.70616264,\n",
      "        0.73594028, 0.69151249, 0.688647  , 0.71887417, 0.63562523,\n",
      "        0.64595718, 0.69287995, 0.73794854, 0.5948031 , 0.64318223,\n",
      "        0.59280917, 0.66472791, 0.55207771, 0.88893442, 0.71905908,\n",
      "        0.59923802, 0.55626797, 0.70380394, 0.66794162, 0.5871221 ,\n",
      "        0.84334409, 0.66990671, 0.59274893, 0.52813003, 0.72929911,\n",
      "        0.76314073, 0.66685189, 0.7923997 , 0.82881766, 0.67817576,\n",
      "        0.56507395, 0.63469833, 0.64740548, 0.66359569, 0.81075365,\n",
      "        0.64572884, 0.61609665, 0.67359645, 0.67592247, 0.67434445,\n",
      "        0.65945604, 0.6915855 , 0.66047674, 0.6828927 , 0.66743582,\n",
      "        0.75885436, 0.72096839, 0.57547691, 0.85611191, 0.69437407,\n",
      "        0.54761496, 0.53474357, 0.66863346, 0.65085849, 0.6822845 ,\n",
      "        0.79252328, 0.77038821, 0.54693589, 0.5808169 , 0.63373871,\n",
      "        0.58767361, 0.65466176]])]\n",
      "Macierz C klasy [3, 5]:\n",
      " [array([[0.01739039, 0.00585168],\n",
      "       [0.00585168, 0.00760956]])\n",
      " array([[0.00844537, 0.0013534 ],\n",
      "       [0.0013534 , 0.006928  ]])] \n",
      "\n",
      "Macierz C klasy [3]:\n",
      " [[0.01739039 0.00585168]\n",
      " [0.00585168 0.00760956]] \n",
      "\n",
      "Macierz C klasy [5]:\n",
      " [[0.00844537 0.0013534 ]\n",
      " [0.0013534  0.006928  ]] \n",
      "\n"
     ]
    }
   ],
   "source": [
    "#len(x[0][0]) - [pierwsza klasa][x lub y, musi byc tyle samo pkt], a ja chce ile jest tych x lub y, ze punktow lacznie\n",
    "\n",
    "v = x - M\n",
    "print(x)\n",
    "\n",
    "C = np.empty(len(klasy), dtype=object)\n",
    "\n",
    "for y in range(len(klasy)):\n",
    "    C[y] = (1/(len(x[y][0])-1)) * v[y] @ v[y].T\n",
    "    \n",
    "#Jeżeli dzielenie miałoby być przez N tylko (aktualnie jest przez N-1), należy w np.cov dodać parametr bias=False\n",
    "        \n",
    "print(\"Macierz C klasy {}:\\n\".format(klasy), C, \"\\n\")\n",
    "\n",
    "for z in range(len(klasy)):\n",
    "    print(\"Macierz C klasy [{}]:\\n\".format(klasy[z]), np.cov(x[z]), \"\\n\")"
   ]
  },
  {
   "cell_type": "markdown",
   "metadata": {},
   "source": [
    "### 2cechy2klasy Machalanobis"
   ]
  },
  {
   "cell_type": "code",
   "execution_count": 7,
   "metadata": {},
   "outputs": [
    {
     "name": "stdout",
     "output_type": "stream",
     "text": [
      "        PRED:0  PRED:1\n",
      "TRUE:0      54       1\n",
      "TRUE:1       0      55\n",
      "\n",
      "\n",
      "Dokładność:  99.0909090909091 %\n"
     ]
    }
   ],
   "source": [
    "C_odwrocone = np.empty(len(klasy), dtype=object)\n",
    "\n",
    "for z in range(len(C)):\n",
    "    C_odwrocone[z] = np.linalg.inv(C[z])\n",
    "\n",
    "x_testowe, czy_normalizowane_testowe = Macierz_x(klasy,cechy,'tak',wszystkie_testowe)\n",
    "x_testowe_plot = x_testowe\n",
    "\n",
    "M_testowe = Macierz_M(mi_testowe,x_testowe)\n",
    "\n",
    "x_testowe = PolaczWKolumny(x_testowe)\n",
    "\n",
    "machalanobis = OdlegloscMachalanobisa()\n",
    "\n",
    "ans = StworzMin(machalanobis)\n",
    "\n",
    "PokazMatrix_i_Dokladnosc()"
   ]
  },
  {
   "cell_type": "markdown",
   "metadata": {},
   "source": [
    "### Plot 2cechy2klasy"
   ]
  },
  {
   "cell_type": "code",
   "execution_count": 8,
   "metadata": {},
   "outputs": [
    {
     "data": {
      "image/png": "[encoded data removed]",
      "text/plain": [
       "<Figure size 432x288 with 1 Axes>"
      ]
     },
     "metadata": {
      "needs_background": "light"
     },
     "output_type": "display_data"
    }
   ],
   "source": [
    "def Rysuj(ktora_w_kolejnosci_klasa, ile_cech,dane):\n",
    "    #ktora_w_kolejnosci_klasa, mam na mysli zmienna klasa i np. [3, 5], to 3 jest 0, a 5 jest 1\n",
    "    zwroc = np.empty([ile_cech], dtype=object)\n",
    "    for y in range(ile_cech):\n",
    "        zwroc[y] = dane[ktora_w_kolejnosci_klasa][y]\n",
    "    return(zwroc)\n",
    "\n",
    "plt.figure()\n",
    "plt.title(\"Próbki\")\n",
    "plt.xlabel(f\"Eccentricity\")\n",
    "plt.ylabel(f\"Elongation\")\n",
    "\n",
    "kl3_cecha1, kl3_cecha2 = Rysuj(0,2,x)\n",
    "kl5_cecha1, kl5_cecha2 = Rysuj(1,2,x)\n",
    "kl3_cecha1_test, kl3_cecha2_test = Rysuj(0,2,x_testowe_plot)\n",
    "kl5_cecha1_test, kl5_cecha2_test = Rysuj(1,2,x_testowe_plot)\n",
    "\n",
    "plt.plot(kl3_cecha1,kl3_cecha2,\"*b\",label='Klasa 3') \n",
    "plt.plot(kl5_cecha1,kl5_cecha2,\"*g\",label='Klasa 5') \n",
    "plt.plot(mi[0][0],mi[0][1],\"or\",label='Klasa 3 mi')\n",
    "plt.plot(mi[1][0],mi[1][1],\"or\",label='Klasa 5 mi')\n",
    "plt.plot(kl3_cecha1_test,kl3_cecha2_test,\"yv\",label='Klasa 3 test') \n",
    "plt.plot(kl5_cecha1_test,kl5_cecha2_test,\"cv\",label='Klasa 5 test') \n",
    "\n",
    "legend = plt.legend(loc='best', shadow=True, fontsize='small')\n",
    "plt.show()"
   ]
  },
  {
   "cell_type": "markdown",
   "metadata": {},
   "source": [
    "### 5cechy2klasy"
   ]
  },
  {
   "cell_type": "code",
   "execution_count": 9,
   "metadata": {},
   "outputs": [],
   "source": [
    "wszystkie_treningowe = df_train.loc[(df_train['Class (Species)'].isin([29,5,8,4,31,3]))]\n",
    "wszystkie_testowe = df_test.loc[(df_test['Class (Species)'].isin([29,5,8,4,31,3]))]\n",
    "\n",
    "# wybrane klasy z wszystkich:\n",
    "klasy = [29,5,8,4,31]\n",
    "#klasy = [3,5]\n",
    "\n",
    "# wybieranie cech (narazie dwóch), z których zrobimy problem 2D, Entropy - 'x', Elongation - 'y'\n",
    "cechy = [\"Entropy\",\"Elongation\"]\n",
    "#cechy = ['Elongation','Entropy','Aspect Ratio','Lobedness','Solidity']\n",
    "\n",
    "x, czy_normalizowane = Macierz_x(klasy,cechy,'tak',wszystkie_treningowe)\n",
    "#To, czy są znormalizowane dane, zależy od 3 parametru - 'tak' lub 'nie' (tak naprawde dowolny ciag, inny od 'tak');\n",
    "#x[0] <- wszystkie cechy pierwszej podanej klasy; [1] - drugiej podanej klasy\n",
    "#x[0][0] <- 'x' podanej pierwszej klasy; [0][1] - 'y'\n",
    "\n",
    "#dostęp do mi analogiczny jak w przypadku x\n",
    "mi = Macierz_mi(x)\n",
    "\n",
    "#dostęp do M analogiczny jak w przypadku x\n",
    "M = Macierz_M(mi,x)"
   ]
  },
  {
   "cell_type": "markdown",
   "metadata": {},
   "source": [
    "### 5cechy2klasy Euklides"
   ]
  },
  {
   "cell_type": "code",
   "execution_count": 10,
   "metadata": {},
   "outputs": [
    {
     "name": "stdout",
     "output_type": "stream",
     "text": [
      "        PRED:0  PRED:1  PRED:2  PRED:3  PRED:4\n",
      "TRUE:0      22       0       0       0       0\n",
      "TRUE:1       0      55       0       0       0\n",
      "TRUE:2       0       7      79       0       2\n",
      "TRUE:3       0       1       0      21       0\n",
      "TRUE:4       0       0      17       0      27\n",
      "\n",
      "\n",
      "Dokładność:  88.31168831168831 %\n"
     ]
    }
   ],
   "source": [
    "x_testowe, czy_normalizowane_testowe = Macierz_x(klasy,cechy,'tak',wszystkie_testowe)\n",
    "\n",
    "mi_testowe = Macierz_mi(x_testowe)\n",
    "\n",
    "M_testowe = Macierz_M(mi_testowe,x_testowe)\n",
    "\n",
    "x_testowe = PolaczWKolumny(x_testowe)\n",
    "\n",
    "euklides = OdlegloscEuklidesa()\n",
    "\n",
    "ans = StworzMin(euklides)\n",
    "\n",
    "PokazMatrix_i_Dokladnosc()\n"
   ]
  },
  {
   "cell_type": "markdown",
   "metadata": {},
   "source": [
    "### Macierz kowariancji"
   ]
  },
  {
   "cell_type": "code",
   "execution_count": 11,
   "metadata": {},
   "outputs": [
    {
     "name": "stdout",
     "output_type": "stream",
     "text": [
      "Macierz C klasy [29, 5, 8, 4, 31]:\n",
      " [array([[ 0.00230709, -0.00035684],\n",
      "       [-0.00035684,  0.00339641]])\n",
      " array([[ 5.42690756e-03, -5.11894620e-05],\n",
      "       [-5.11894620e-05,  4.51659598e-03]])\n",
      " array([[ 0.00516104, -0.00042939],\n",
      "       [-0.00042939,  0.00195216]])\n",
      " array([[ 0.02860386, -0.00565884],\n",
      "       [-0.00565884,  0.00757019]])\n",
      " array([[ 0.01601219, -0.00022992],\n",
      "       [-0.00022992,  0.0024257 ]])] \n",
      "\n",
      "Macierz C klasy [29]:\n",
      " [[ 0.00230709 -0.00035684]\n",
      " [-0.00035684  0.00339641]] \n",
      "\n",
      "Macierz C klasy [5]:\n",
      " [[ 5.42690756e-03 -5.11894620e-05]\n",
      " [-5.11894620e-05  4.51659598e-03]] \n",
      "\n",
      "Macierz C klasy [8]:\n",
      " [[ 0.00516104 -0.00042939]\n",
      " [-0.00042939  0.00195216]] \n",
      "\n",
      "Macierz C klasy [4]:\n",
      " [[ 0.02860386 -0.00565884]\n",
      " [-0.00565884  0.00757019]] \n",
      "\n",
      "Macierz C klasy [31]:\n",
      " [[ 0.01601219 -0.00022992]\n",
      " [-0.00022992  0.0024257 ]] \n",
      "\n"
     ]
    }
   ],
   "source": [
    "#len(x[0][0]) - [pierwsza klasa][x lub y, musi byc tyle samo pkt], a ja chce ile jest tych x lub y, ze punktow lacznie\n",
    "\n",
    "v = x - M\n",
    "\n",
    "C = np.empty(len(klasy), dtype=object)\n",
    "\n",
    "for y in range(len(klasy)):\n",
    "    C[y] = (1/(len(x[y][0])-1)) * v[y] @ v[y].T\n",
    "    \n",
    "#Jeżeli dzielenie miałoby być przez N tylko (aktualnie jest przez N-1), należy w np.cov dodać parametr bias=False\n",
    "        \n",
    "print(\"Macierz C klasy {}:\\n\".format(klasy), C, \"\\n\")\n",
    "\n",
    "for z in range(len(klasy)):\n",
    "    print(\"Macierz C klasy [{}]:\\n\".format(klasy[z]), np.cov(x[z]), \"\\n\")"
   ]
  },
  {
   "cell_type": "markdown",
   "metadata": {},
   "source": [
    "### 5cechy2klasy Machalanobis"
   ]
  },
  {
   "cell_type": "code",
   "execution_count": 12,
   "metadata": {},
   "outputs": [
    {
     "name": "stdout",
     "output_type": "stream",
     "text": [
      "        PRED:0  PRED:1  PRED:2  PRED:3  PRED:4\n",
      "TRUE:0      22       0       0       0       0\n",
      "TRUE:1       0      55       0       0       0\n",
      "TRUE:2       0       1      84       0       3\n",
      "TRUE:3       0       4       0      18       0\n",
      "TRUE:4       0       0      11       0      33\n",
      "\n",
      "\n",
      "Dokładność:  91.77489177489177 %\n"
     ]
    }
   ],
   "source": [
    "C_odwrocone = np.empty(len(klasy), dtype=object)\n",
    "\n",
    "for z in range(len(C)):\n",
    "    C_odwrocone[z] = np.linalg.inv(C[z])\n",
    "\n",
    "x_testowe, czy_normalizowane_testowe = Macierz_x(klasy,cechy,'tak',wszystkie_testowe)\n",
    "x_testowe_plot = x_testowe\n",
    "\n",
    "M_testowe = Macierz_M(mi_testowe,x_testowe)\n",
    "\n",
    "x_testowe = PolaczWKolumny(x_testowe)\n",
    "\n",
    "machalanobis = OdlegloscMachalanobisa()\n",
    "\n",
    "ans = StworzMin(machalanobis)\n",
    "\n",
    "PokazMatrix_i_Dokladnosc()"
   ]
  },
  {
   "cell_type": "markdown",
   "metadata": {},
   "source": [
    "### Plot 5klas2cechy"
   ]
  },
  {
   "cell_type": "code",
   "execution_count": 13,
   "metadata": {},
   "outputs": [
    {
     "data": {
      "image/png": "[encoded data removed]",
      "text/plain": [
       "<Figure size 432x288 with 1 Axes>"
      ]
     },
     "metadata": {
      "needs_background": "light"
     },
     "output_type": "display_data"
    }
   ],
   "source": [
    "plt.figure()\n",
    "plt.title(\"Próbki\")\n",
    "plt.xlabel(f\"Entropy\")\n",
    "plt.ylabel(f\"Elongation\")\n",
    "\n",
    "#klasy = [29,5,8,4,31]\n",
    "\n",
    "kl29_cecha1, kl29_cecha2 = Rysuj(0,2,x)\n",
    "kl5_cecha1, kl5_cecha2 = Rysuj(1,2,x)\n",
    "kl8_cecha1, kl8_cecha2 = Rysuj(2,2,x)\n",
    "kl4_cecha1, kl4_cecha2 = Rysuj(3,2,x)\n",
    "kl31_cecha1, kl31_cecha2 = Rysuj(4,2,x)\n",
    "\n",
    "kl29_cecha1_test, kl29_cecha2_test = Rysuj(0,2,x_testowe_plot)\n",
    "kl5_cecha1_test, kl5_cecha2_test = Rysuj(1,2,x_testowe_plot)\n",
    "kl8_cecha1_test, kl8_cecha2_test = Rysuj(2,2,x_testowe_plot)\n",
    "kl4_cecha1_test, kl4_cecha2_test = Rysuj(3,2,x_testowe_plot)\n",
    "kl31_cecha1_test, kl31_cecha2_test = Rysuj(4,2,x_testowe_plot)\n",
    "\n",
    "plt.plot(kl29_cecha1,kl29_cecha2,\"*b\",label='Klasa 29') \n",
    "plt.plot(kl5_cecha1,kl5_cecha2,\"*g\",label='Klasa 5') \n",
    "plt.plot(kl8_cecha1,kl8_cecha2,\"*y\",label='Klasa 8') \n",
    "plt.plot(kl4_cecha1,kl4_cecha2,\"*c\",label='Klasa 4') \n",
    "plt.plot(kl31_cecha1,kl31_cecha2,\"*m\",label='Klasa 31') \n",
    "\n",
    "                                         \n",
    "plt.plot(kl29_cecha1_test,kl29_cecha2_test,\"bv\",label='Klasa 29 test')\n",
    "plt.plot(kl5_cecha1_test,kl5_cecha2_test,\"gv\",label='Klasa 5 test') \n",
    "plt.plot(kl8_cecha1_test,kl8_cecha2_test,\"yv\",label='Klasa 8 test') \n",
    "plt.plot(kl4_cecha1_test,kl4_cecha2_test,\"cv\",label='Klasa 4 test') \n",
    "plt.plot(kl31_cecha1_test,kl31_cecha2_test,\"mv\",label='Klasa 31 test') \n",
    "\n",
    "plt.plot(mi[0][0],mi[0][1],\"or\",label='Klasa 29 mi')\n",
    "plt.plot(mi[1][0],mi[1][1],\"or\",label='Klasa 5 mi')\n",
    "plt.plot(mi[2][0],mi[2][1],\"or\",label='Klasa 8 mi')\n",
    "plt.plot(mi[3][0],mi[3][1],\"or\",label='Klasa 4 mi')\n",
    "plt.plot(mi[4][0],mi[4][1],\"or\",label='Klasa 31 mi')\n",
    "                                         \n",
    "legend = plt.legend(loc='best', shadow=True, fontsize='xx-small')\n",
    "plt.show()"
   ]
  },
  {
   "cell_type": "markdown",
   "metadata": {},
   "source": [
    "### 5cechy5klas"
   ]
  },
  {
   "cell_type": "code",
   "execution_count": 14,
   "metadata": {},
   "outputs": [],
   "source": [
    "wszystkie_treningowe = df_train.loc[(df_train['Class (Species)'].isin([29,5,8,4,31,3]))]\n",
    "wszystkie_testowe = df_test.loc[(df_test['Class (Species)'].isin([29,5,8,4,31,3]))]\n",
    "\n",
    "# wybrane klasy z wszystkich:\n",
    "klasy = [29,5,8,4,31]\n",
    "#klasy = [3,5]\n",
    "\n",
    "# wybieranie cech (narazie dwóch), z których zrobimy problem 2D, Entropy - 'x', Elongation - 'y'\n",
    "#cechy = [\"Entropy\",\"Elongation\"]\n",
    "cechy = ['Elongation','Entropy','Aspect Ratio','Lobedness','Solidity']\n",
    "\n",
    "x, czy_normalizowane = Macierz_x(klasy,cechy,'tak',wszystkie_treningowe)\n",
    "#To, czy są znormalizowane dane, zależy od 3 parametru - 'tak' lub 'nie' (tak naprawde dowolny ciag, inny od 'tak');\n",
    "#x[0] <- wszystkie cechy pierwszej podanej klasy; [1] - drugiej podanej klasy\n",
    "#x[0][0] <- 'x' podanej pierwszej klasy; [0][1] - 'y'\n",
    "\n",
    "#dostęp do mi analogiczny jak w przypadku x\n",
    "mi = Macierz_mi(x)\n",
    "\n",
    "#dostęp do M analogiczny jak w przypadku x\n",
    "M = Macierz_M(mi,x)"
   ]
  },
  {
   "cell_type": "markdown",
   "metadata": {},
   "source": [
    "### 5cechy5klas Euklides"
   ]
  },
  {
   "cell_type": "code",
   "execution_count": 15,
   "metadata": {},
   "outputs": [
    {
     "name": "stdout",
     "output_type": "stream",
     "text": [
      "        PRED:0  PRED:1  PRED:2  PRED:3  PRED:4\n",
      "TRUE:0      22       0       0       0       0\n",
      "TRUE:1       0      55       0       0       0\n",
      "TRUE:2       0       0      88       0       0\n",
      "TRUE:3       0       0       0      22       0\n",
      "TRUE:4       0       0       9       0      35\n",
      "\n",
      "\n",
      "Dokładność:  96.1038961038961 %\n"
     ]
    }
   ],
   "source": [
    "x_testowe, czy_normalizowane_testowe = Macierz_x(klasy,cechy,'tak',wszystkie_testowe)\n",
    "\n",
    "mi_testowe = Macierz_mi(x_testowe)\n",
    "\n",
    "M_testowe = Macierz_M(mi_testowe,x_testowe)\n",
    "\n",
    "x_testowe = PolaczWKolumny(x_testowe)\n",
    "\n",
    "euklides = OdlegloscEuklidesa()\n",
    "\n",
    "ans = StworzMin(euklides)\n",
    "\n",
    "PokazMatrix_i_Dokladnosc()"
   ]
  },
  {
   "cell_type": "markdown",
   "metadata": {},
   "source": [
    "### Macierz kowariancji"
   ]
  },
  {
   "cell_type": "code",
   "execution_count": 16,
   "metadata": {},
   "outputs": [
    {
     "name": "stdout",
     "output_type": "stream",
     "text": [
      "Macierz C klasy [29, 5, 8, 4, 31]:\n",
      " [array([[ 3.39640642e-03, -3.56843481e-04,  3.16739293e-04,\n",
      "        -5.04438783e-05,  2.69835034e-04],\n",
      "       [-3.56843481e-04,  2.30708525e-03, -2.54709890e-05,\n",
      "         1.52529212e-04, -4.60514404e-04],\n",
      "       [ 3.16739293e-04, -2.54709890e-05,  3.78256171e-04,\n",
      "         6.50980079e-05, -2.43911280e-04],\n",
      "       [-5.04438783e-05,  1.52529212e-04,  6.50980079e-05,\n",
      "         1.87105856e-04, -4.81710741e-04],\n",
      "       [ 2.69835034e-04, -4.60514404e-04, -2.43911280e-04,\n",
      "        -4.81710741e-04,  1.68950705e-02]])\n",
      " array([[ 4.51659598e-03, -5.11894620e-05,  1.01355753e-03,\n",
      "         1.31867824e-03,  1.22755501e-04],\n",
      "       [-5.11894620e-05,  5.42690756e-03, -2.07414898e-04,\n",
      "         7.99398071e-04,  2.42299477e-04],\n",
      "       [ 1.01355753e-03, -2.07414898e-04,  8.69057338e-04,\n",
      "         3.75587050e-04, -3.02064300e-04],\n",
      "       [ 1.31867824e-03,  7.99398071e-04,  3.75587050e-04,\n",
      "         1.51900619e-03, -6.12839420e-05],\n",
      "       [ 1.22755501e-04,  2.42299477e-04, -3.02064300e-04,\n",
      "        -6.12839420e-05,  1.18901341e-02]])\n",
      " array([[ 1.95215762e-03, -4.29393970e-04,  2.56031585e-04,\n",
      "         1.38182658e-05, -1.35565956e-03],\n",
      "       [-4.29393970e-04,  5.16103595e-03,  8.77301024e-04,\n",
      "         5.82031968e-05,  1.39742825e-05],\n",
      "       [ 2.56031585e-04,  8.77301024e-04,  6.13208846e-04,\n",
      "         4.70945541e-05, -2.97044521e-04],\n",
      "       [ 1.38182658e-05,  5.82031968e-05,  4.70945541e-05,\n",
      "         7.73798570e-05,  2.43425071e-04],\n",
      "       [-1.35565956e-03,  1.39742825e-05, -2.97044521e-04,\n",
      "         2.43425071e-04,  1.07441405e-02]])\n",
      " array([[ 7.57019277e-03, -5.65883974e-03,  6.96543621e-04,\n",
      "         1.64778653e-04, -1.20858945e-03],\n",
      "       [-5.65883974e-03,  2.86038614e-02, -9.82145928e-04,\n",
      "        -2.26978100e-04, -1.86495048e-03],\n",
      "       [ 6.96543621e-04, -9.82145928e-04,  4.03923913e-04,\n",
      "         3.40224574e-05, -4.89603190e-04],\n",
      "       [ 1.64778653e-04, -2.26978100e-04,  3.40224574e-05,\n",
      "         5.33562913e-05, -1.39828211e-04],\n",
      "       [-1.20858945e-03, -1.86495048e-03, -4.89603190e-04,\n",
      "        -1.39828211e-04,  1.19873762e-02]])\n",
      " array([[ 0.0024257 , -0.00022992,  0.00127809,  0.00276876,  0.0003367 ],\n",
      "       [-0.00022992,  0.01601219,  0.00281446, -0.00843769,  0.00385022],\n",
      "       [ 0.00127809,  0.00281446,  0.0118251 , -0.0061139 ,  0.00532942],\n",
      "       [ 0.00276876, -0.00843769, -0.0061139 ,  0.13219596, -0.04132385],\n",
      "       [ 0.0003367 ,  0.00385022,  0.00532942, -0.04132385,  0.02663252]])] \n",
      "\n",
      "Macierz C klasy [29]:\n",
      " [[ 3.39640642e-03 -3.56843481e-04  3.16739293e-04 -5.04438783e-05\n",
      "   2.69835034e-04]\n",
      " [-3.56843481e-04  2.30708525e-03 -2.54709890e-05  1.52529212e-04\n",
      "  -4.60514404e-04]\n",
      " [ 3.16739293e-04 -2.54709890e-05  3.78256171e-04  6.50980079e-05\n",
      "  -2.43911280e-04]\n",
      " [-5.04438783e-05  1.52529212e-04  6.50980079e-05  1.87105856e-04\n",
      "  -4.81710741e-04]\n",
      " [ 2.69835034e-04 -4.60514404e-04 -2.43911280e-04 -4.81710741e-04\n",
      "   1.68950705e-02]] \n",
      "\n",
      "Macierz C klasy [5]:\n",
      " [[ 4.51659598e-03 -5.11894620e-05  1.01355753e-03  1.31867824e-03\n",
      "   1.22755501e-04]\n",
      " [-5.11894620e-05  5.42690756e-03 -2.07414898e-04  7.99398071e-04\n",
      "   2.42299477e-04]\n",
      " [ 1.01355753e-03 -2.07414898e-04  8.69057338e-04  3.75587050e-04\n",
      "  -3.02064300e-04]\n",
      " [ 1.31867824e-03  7.99398071e-04  3.75587050e-04  1.51900619e-03\n",
      "  -6.12839420e-05]\n",
      " [ 1.22755501e-04  2.42299477e-04 -3.02064300e-04 -6.12839420e-05\n",
      "   1.18901341e-02]] \n",
      "\n",
      "Macierz C klasy [8]:\n",
      " [[ 1.95215762e-03 -4.29393970e-04  2.56031585e-04  1.38182658e-05\n",
      "  -1.35565956e-03]\n",
      " [-4.29393970e-04  5.16103595e-03  8.77301024e-04  5.82031968e-05\n",
      "   1.39742825e-05]\n",
      " [ 2.56031585e-04  8.77301024e-04  6.13208846e-04  4.70945541e-05\n",
      "  -2.97044521e-04]\n",
      " [ 1.38182658e-05  5.82031968e-05  4.70945541e-05  7.73798570e-05\n",
      "   2.43425071e-04]\n",
      " [-1.35565956e-03  1.39742825e-05 -2.97044521e-04  2.43425071e-04\n",
      "   1.07441405e-02]] \n",
      "\n",
      "Macierz C klasy [4]:\n",
      " [[ 7.57019277e-03 -5.65883974e-03  6.96543621e-04  1.64778653e-04\n",
      "  -1.20858945e-03]\n",
      " [-5.65883974e-03  2.86038614e-02 -9.82145928e-04 -2.26978100e-04\n",
      "  -1.86495048e-03]\n",
      " [ 6.96543621e-04 -9.82145928e-04  4.03923913e-04  3.40224574e-05\n",
      "  -4.89603190e-04]\n",
      " [ 1.64778653e-04 -2.26978100e-04  3.40224574e-05  5.33562913e-05\n",
      "  -1.39828211e-04]\n",
      " [-1.20858945e-03 -1.86495048e-03 -4.89603190e-04 -1.39828211e-04\n",
      "   1.19873762e-02]] \n",
      "\n",
      "Macierz C klasy [31]:\n",
      " [[ 0.0024257  -0.00022992  0.00127809  0.00276876  0.0003367 ]\n",
      " [-0.00022992  0.01601219  0.00281446 -0.00843769  0.00385022]\n",
      " [ 0.00127809  0.00281446  0.0118251  -0.0061139   0.00532942]\n",
      " [ 0.00276876 -0.00843769 -0.0061139   0.13219596 -0.04132385]\n",
      " [ 0.0003367   0.00385022  0.00532942 -0.04132385  0.02663252]] \n",
      "\n"
     ]
    }
   ],
   "source": [
    "#len(x[0][0]) - [pierwsza klasa][x lub y, musi byc tyle samo pkt], a ja chce ile jest tych x lub y, ze punktow lacznie\n",
    "\n",
    "v = x - M\n",
    "\n",
    "C = np.empty(len(klasy), dtype=object)\n",
    "\n",
    "for y in range(len(klasy)):\n",
    "    C[y] = (1/(len(x[y][0])-1)) * v[y] @ v[y].T\n",
    "    \n",
    "#Jeżeli dzielenie miałoby być przez N tylko (aktualnie jest przez N-1), należy w np.cov dodać parametr bias=False\n",
    "        \n",
    "print(\"Macierz C klasy {}:\\n\".format(klasy), C, \"\\n\")\n",
    "\n",
    "for z in range(len(klasy)):\n",
    "    print(\"Macierz C klasy [{}]:\\n\".format(klasy[z]), np.cov(x[z]), \"\\n\")"
   ]
  },
  {
   "cell_type": "markdown",
   "metadata": {},
   "source": [
    "### 5cechy5klas Machalanobis"
   ]
  },
  {
   "cell_type": "code",
   "execution_count": 17,
   "metadata": {},
   "outputs": [
    {
     "name": "stdout",
     "output_type": "stream",
     "text": [
      "        PRED:0  PRED:1  PRED:2  PRED:3  PRED:4\n",
      "TRUE:0      22       0       0       0       0\n",
      "TRUE:1       0      52       0       3       0\n",
      "TRUE:2       0      11      77       0       0\n",
      "TRUE:3       0       9       0      13       0\n",
      "TRUE:4       0       0       0       0      44\n",
      "\n",
      "\n",
      "Dokładność:  90.04329004329004 %\n"
     ]
    }
   ],
   "source": [
    "C_odwrocone = np.empty(len(klasy), dtype=object)\n",
    "\n",
    "for z in range(len(C)):\n",
    "    C_odwrocone[z] = np.linalg.inv(C[z])\n",
    "\n",
    "x_testowe, czy_normalizowane_testowe = Macierz_x(klasy,cechy,'tak',wszystkie_testowe)\n",
    "x_testowe_plot = x_testowe\n",
    "\n",
    "M_testowe = Macierz_M(mi_testowe,x_testowe)\n",
    "\n",
    "x_testowe = PolaczWKolumny(x_testowe)\n",
    "\n",
    "machalanobis = OdlegloscMachalanobisa()\n",
    "\n",
    "ans = StworzMin(machalanobis)\n",
    "\n",
    "PokazMatrix_i_Dokladnosc()"
   ]
  },
  {
   "cell_type": "code",
   "execution_count": 18,
   "metadata": {},
   "outputs": [
    {
     "data": {
      "image/png": "[encoded data removed]",
      "text/plain": [
       "<Figure size 432x288 with 1 Axes>"
      ]
     },
     "metadata": {
      "needs_background": "light"
     },
     "output_type": "display_data"
    }
   ],
   "source": [
    "plt.figure()\n",
    "plt.title(\"Klasyfikatory - dokładność\")\n",
    "plt.xlabel('Klasyfikator')\n",
    "plt.ylabel('Dokładność')\n",
    "plt.plot('2 cechy 2 klasy',100,'co', label=\"kNN=1\")\n",
    "plt.plot('2 cechy 2 klasy',100,'cv', label=\"kNN=5\")\n",
    "plt.plot('2 cechy 2 klasy',100,'c*', label=\"kNN=9\")\n",
    "plt.plot('2 cechy 2 klasy',100,'c+', label=\"kNN=15\")\n",
    "plt.plot('2 cechy 5 klas',90.48,'co')\n",
    "plt.plot('2 cechy 5 klas',89.61,'cv')\n",
    "plt.plot('2 cechy 5 klas',91.77,'c*')\n",
    "plt.plot('2 cechy 5 klas',90.04,'c+')\n",
    "plt.plot('2 cechy 5 klas',90.48,'co')\n",
    "plt.plot('2 cechy 5 klas',89.61,'cv')\n",
    "plt.plot('2 cechy 5 klas',91.77,'c*')\n",
    "plt.plot('2 cechy 5 klas',90.04,'c+')\n",
    "plt.plot('5 cech 5 klas',93.94,'co')\n",
    "plt.plot('5 cech 5 klas',96.10,'cv')\n",
    "plt.plot('5 cech 5 klas',96.10,'c*')\n",
    "plt.plot('5 cech 5 klas',96.96,'c+')\n",
    "plt.plot('2 cechy 2 klasy',100,'ro', label=\"NM Euklides\")\n",
    "plt.plot('2 cechy 2 klasy',99.09,'mv', label=\"NM Machalanobis\")\n",
    "plt.plot('2 cechy 5 klas',88.31,'ro')\n",
    "plt.plot('2 cechy 5 klas',91.77,'mv')\n",
    "plt.plot('5 cech 5 klas',96.10,'ro')\n",
    "plt.plot('5 cech 5 klas',90.04,'mv')\n",
    "plt.legend()\n",
    "plt.show()"
   ]
  },
  {
   "cell_type": "markdown",
   "metadata": {},
   "source": [
    "### Wyniki z kNN"
   ]
  },
  {
   "cell_type": "markdown",
   "metadata": {},
   "source": [
    "**Dla 2 cech i 2 klas**:\n",
    "- k=1 - wynik 100%\n",
    "- k=5 - wynik 100%\n",
    "- k=9 - wynik 100%\n",
    "- k=15 - wynik 100%\n",
    "\n",
    "**Dla 2 cech i 5 klas**:\n",
    "- k=1 - wynik 90.48%\n",
    "- k=5 - wynik 89.61%\n",
    "- k=9 - wynik 91.77%\n",
    "- k=15 - wynik 90.04%\n",
    "\n",
    "**Dla 5 cech i 5 klas**:\n",
    "- k=1 - wynik 93.94%\n",
    "- k=5 - wynik 96.10%\n",
    "- k=9 - wynik 96.10%\n",
    "- k=15 - wynik 96.96%\n"
   ]
  },
  {
   "cell_type": "markdown",
   "metadata": {},
   "source": [
    "### Wyniki z NM"
   ]
  },
  {
   "cell_type": "markdown",
   "metadata": {},
   "source": [
    "**Dla 2 cech i 2 klas**:\n",
    "- Euklies - 100% \n",
    "- Machalanobis - 99.09%\n",
    "\n",
    "**Dla 2 cech i 5 klas**:\n",
    "- Euklies - 88.31%\n",
    "- Machalanobis - 91.77%\n",
    "\n",
    "**Dla 5 cech i 5 klas**:\n",
    "- Euklies - 96.10%\n",
    "- Machalanobis - 90.04%"
   ]
  },
  {
   "cell_type": "markdown",
   "metadata": {},
   "source": [
    "### Wnioski"
   ]
  },
  {
   "cell_type": "markdown",
   "metadata": {},
   "source": [
    "Wszystkie pomiary wykonywano dla tych samych (odpowiednio) klas i cech.\n",
    "\n",
    "\n",
    "Jak można zauważyć, wszystkie algorytmy poradziły sobie (praktycznie) w 100% w przypadku 2 cech i 2 klas.\n",
    "\n",
    "W przypadku 2 cech i 5 klas najlepiej poradził sobie algorytm NM z odległością Machalanobisa. Kolejno najlepsze były kNN, a ostatni jest NM z odległością Euklidesa.\n",
    "\n",
    "W przypadku 5 cech i 5 klas najlepiej poradził sobie algorytm kNN dla k=15. Na samym końcu znalazł się NM z odległością Machalanobisa, co może być spowodowane duzym nałożeniem się próbek klas (co mogło wpłynąć na macierz kowariancji).\n",
    "\n",
    "Ostatecznie, nie da się jednoznacznie stwierdzić, który algorytm jest najskuteczniejszy. Wg. mnie, najbardziej reprezentatywny przykład, to 5 klas 2 cechy, w których algorytmy ułożyły się względem skuteczności tak, jak oczekiwano."
   ]
  }
 ],
 "metadata": {
  "author": {
   "emails": [
    "rsusik@kis.p.lodz.pl"
   ],
   "name": "Robert Susik"
  },
  "kernelspec": {
   "display_name": "Python 3",
   "language": "python",
   "name": "python3"
  },
  "language_info": {
   "codemirror_mode": {
    "name": "ipython",
    "version": 3
   },
   "file_extension": ".py",
   "mimetype": "text/x-python",
   "name": "python",
   "nbconvert_exporter": "python",
   "pygments_lexer": "ipython3",
   "version": "3.9.2"
  },
  "toc": {
   "base_numbering": 1,
   "nav_menu": {},
   "number_sections": true,
   "sideBar": true,
   "skip_h1_title": false,
   "title_cell": "Table of Contents",
   "title_sidebar": "Contents",
   "toc_cell": false,
   "toc_position": {},
   "toc_section_display": true,
   "toc_window_display": true
  }
 },
 "nbformat": 4,
 "nbformat_minor": 4
}
